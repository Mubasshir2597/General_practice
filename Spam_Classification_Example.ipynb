{
  "cells": [
    {
      "cell_type": "markdown",
      "metadata": {
        "id": "view-in-github",
        "colab_type": "text"
      },
      "source": [
        "<a href=\"https://colab.research.google.com/github/Mubasshir2597/General_practice/blob/main/Spam_Classification_Example.ipynb\" target=\"_parent\"><img src=\"https://colab.research.google.com/assets/colab-badge.svg\" alt=\"Open In Colab\"/></a>"
      ]
    },
    {
      "cell_type": "markdown",
      "id": "c593e910",
      "metadata": {
        "id": "c593e910"
      },
      "source": [
        "### 5.1. Setup\n",
        "\n",
        "Install required text processing libraries for the example"
      ]
    },
    {
      "cell_type": "code",
      "execution_count": 1,
      "id": "91d8262a",
      "metadata": {
        "colab": {
          "base_uri": "https://localhost:8080/"
        },
        "id": "91d8262a",
        "outputId": "38c6394b-fc63-4665-8ded-86ab21ea5f1e"
      },
      "outputs": [
        {
          "output_type": "stream",
          "name": "stdout",
          "text": [
            "Looking in indexes: https://pypi.org/simple, https://us-python.pkg.dev/colab-wheels/public/simple/\n",
            "Requirement already satisfied: nltk in /usr/local/lib/python3.9/dist-packages (3.8.1)\n",
            "Requirement already satisfied: click in /usr/local/lib/python3.9/dist-packages (from nltk) (8.1.3)\n",
            "Requirement already satisfied: joblib in /usr/local/lib/python3.9/dist-packages (from nltk) (1.2.0)\n",
            "Requirement already satisfied: tqdm in /usr/local/lib/python3.9/dist-packages (from nltk) (4.65.0)\n",
            "Requirement already satisfied: regex>=2021.8.3 in /usr/local/lib/python3.9/dist-packages (from nltk) (2022.10.31)\n"
          ]
        },
        {
          "output_type": "stream",
          "name": "stderr",
          "text": [
            "[nltk_data] Downloading package stopwords to /root/nltk_data...\n",
            "[nltk_data]   Unzipping corpora/stopwords.zip.\n",
            "[nltk_data] Downloading package punkt to /root/nltk_data...\n",
            "[nltk_data]   Unzipping tokenizers/punkt.zip.\n",
            "[nltk_data] Downloading package wordnet to /root/nltk_data...\n"
          ]
        }
      ],
      "source": [
        "!pip install nltk\n",
        "\n",
        "import nltk\n",
        "\n",
        "nltk.download('stopwords')\n",
        "nltk.download('punkt')\n",
        "\n",
        "from nltk.corpus import stopwords\n",
        "\n",
        "nltk.download('wordnet')\n",
        "from nltk.stem import WordNetLemmatizer\n",
        "lemmatizer = WordNetLemmatizer()"
      ]
    },
    {
      "cell_type": "markdown",
      "id": "f40c3a4f",
      "metadata": {
        "id": "f40c3a4f"
      },
      "source": [
        "### 5.2. Creating Text Representations\n",
        "\n",
        "Text data needs to be converted to numeric representations before they can be used to train deep learning models. The Spam classification feature data is converted to TF-IDF vectors and the target variable is converted to one-hot encoding."
      ]
    },
    {
      "cell_type": "code",
      "execution_count": 2,
      "id": "08900f4b",
      "metadata": {
        "colab": {
          "base_uri": "https://localhost:8080/"
        },
        "id": "08900f4b",
        "outputId": "fb0b2d1d-35e3-4a57-d2e3-303c3345a0ad"
      },
      "outputs": [
        {
          "output_type": "stream",
          "name": "stdout",
          "text": [
            "\n",
            "Loaded Data :\n",
            "------------------------------------\n",
            "  CLASS                                                SMS\n",
            "0   ham   said kiss, kiss, i can't do the sound effects...\n",
            "1   ham      &lt;#&gt; ISH MINUTES WAS 5 MINUTES AGO. WTF.\n",
            "2  spam  (Bank of Granite issues Strong-Buy) EXPLOSIVE ...\n",
            "3  spam  * FREE* POLYPHONIC RINGTONE Text SUPER to 8713...\n",
            "4  spam  **FREE MESSAGE**Thanks for using the Auction S...\n"
          ]
        }
      ],
      "source": [
        "import pandas as pd\n",
        "import os\n",
        "import numpy as np\n",
        "from sklearn.model_selection import train_test_split\n",
        "from sklearn.preprocessing import scale\n",
        "\n",
        "#Load Spam Data and review content\n",
        "spam_data = pd.read_csv(\"Spam-Classification.csv\")\n",
        "\n",
        "print(\"\\nLoaded Data :\\n------------------------------------\")\n",
        "print(spam_data.head())\n",
        "\n",
        "#Separate feature and target data\n",
        "spam_classes_raw = spam_data[\"CLASS\"]\n",
        "spam_messages = spam_data[\"SMS\"]\n"
      ]
    },
    {
      "cell_type": "code",
      "execution_count": 3,
      "id": "64202dcd",
      "metadata": {
        "colab": {
          "base_uri": "https://localhost:8080/"
        },
        "id": "64202dcd",
        "outputId": "4b00c72d-ec0d-47fc-b40d-4f119cd9c475"
      },
      "outputs": [
        {
          "output_type": "stream",
          "name": "stderr",
          "text": [
            "/usr/local/lib/python3.9/dist-packages/sklearn/feature_extraction/text.py:528: UserWarning: The parameter 'token_pattern' will not be used since 'tokenizer' is not None'\n",
            "  warnings.warn(\n"
          ]
        },
        {
          "output_type": "stream",
          "name": "stdout",
          "text": [
            "TF-IDF Matrix Shape :  (1500, 4566)\n",
            "One-hot Encoding Shape :  (1500, 2)\n"
          ]
        }
      ],
      "source": [
        "\n",
        "import nltk\n",
        "import tensorflow as tf\n",
        "\n",
        "#Custom tokenizer to remove stopwords and use lemmatization\n",
        "def customtokenize(str):\n",
        "    #Split string as tokens\n",
        "    tokens=nltk.word_tokenize(str)\n",
        "    #Filter for stopwords\n",
        "    nostop = list(filter(lambda token: token not in stopwords.words('english'), tokens))\n",
        "    #Perform lemmatization\n",
        "    lemmatized=[lemmatizer.lemmatize(word) for word in nostop ]\n",
        "    return lemmatized\n",
        "\n",
        "from sklearn.feature_extraction.text import TfidfVectorizer\n",
        "\n",
        "#Build a TF-IDF Vectorizer model\n",
        "vectorizer = TfidfVectorizer(tokenizer=customtokenize)\n",
        "\n",
        "#Transform feature input to TF-IDF\n",
        "tfidf=vectorizer.fit_transform(spam_messages)\n",
        "#Convert TF-IDF to numpy array\n",
        "tfidf_array = tfidf.toarray()\n",
        "\n",
        "#Build a label encoder for target variable to convert strings to numeric values.\n",
        "from sklearn import preprocessing\n",
        "label_encoder = preprocessing.LabelEncoder()\n",
        "spam_classes = label_encoder.fit_transform(\n",
        "                                spam_classes_raw)\n",
        "\n",
        "#Convert target to one-hot encoding vector\n",
        "spam_classes = tf.keras.utils.to_categorical(spam_classes,2)\n",
        "\n",
        "print(\"TF-IDF Matrix Shape : \", tfidf.shape)\n",
        "print(\"One-hot Encoding Shape : \", spam_classes.shape)\n",
        "\n",
        "X_train,X_test,Y_train,Y_test = train_test_split( tfidf_array, spam_classes, test_size=0.10)"
      ]
    },
    {
      "cell_type": "markdown",
      "id": "585a983f",
      "metadata": {
        "id": "585a983f"
      },
      "source": [
        "### 5.3. Building and Evaluating the Model"
      ]
    },
    {
      "cell_type": "code",
      "execution_count": 4,
      "id": "d927db5d",
      "metadata": {
        "colab": {
          "base_uri": "https://localhost:8080/"
        },
        "id": "d927db5d",
        "outputId": "b650c277-f94a-4d27-e85b-a8ead7df890c"
      },
      "outputs": [
        {
          "output_type": "stream",
          "name": "stdout",
          "text": [
            "Model: \"sequential\"\n",
            "_________________________________________________________________\n",
            " Layer (type)                Output Shape              Param #   \n",
            "=================================================================\n",
            " Hidden-Layer-1 (Dense)      (None, 32)                146144    \n",
            "                                                                 \n",
            " Hidden-Layer-2 (Dense)      (None, 32)                1056      \n",
            "                                                                 \n",
            " Output-Layer (Dense)        (None, 2)                 66        \n",
            "                                                                 \n",
            "=================================================================\n",
            "Total params: 147,266\n",
            "Trainable params: 147,266\n",
            "Non-trainable params: 0\n",
            "_________________________________________________________________\n"
          ]
        }
      ],
      "source": [
        "from tensorflow import keras\n",
        "from tensorflow.keras import optimizers\n",
        "from tensorflow.keras.regularizers import l2\n",
        "\n",
        "#Setup Hyper Parameters for building the model\n",
        "NB_CLASSES=2\n",
        "N_HIDDEN=32\n",
        "\n",
        "model = tf.keras.models.Sequential()\n",
        "\n",
        "model.add(keras.layers.Dense(N_HIDDEN,\n",
        "                             input_shape=(X_train.shape[1],),\n",
        "                              name='Hidden-Layer-1',\n",
        "                              activation='relu'))\n",
        "\n",
        "model.add(keras.layers.Dense(N_HIDDEN,\n",
        "                              name='Hidden-Layer-2',\n",
        "                              activation='relu'))\n",
        "\n",
        "model.add(keras.layers.Dense(NB_CLASSES,\n",
        "                             name='Output-Layer',\n",
        "                             activation='softmax'))\n",
        "\n",
        "model.compile(loss='categorical_crossentropy',\n",
        "              metrics=['accuracy'])\n",
        "\n",
        "model.summary()\n"
      ]
    },
    {
      "cell_type": "code",
      "execution_count": 5,
      "id": "294ceb7c",
      "metadata": {
        "colab": {
          "base_uri": "https://localhost:8080/",
          "height": 1000
        },
        "id": "294ceb7c",
        "outputId": "fcc39ac8-256c-468a-e94e-44792c68d932"
      },
      "outputs": [
        {
          "output_type": "stream",
          "name": "stdout",
          "text": [
            "\n",
            "Training Progress:\n",
            "------------------------------------\n",
            "Epoch 1/10\n",
            "5/5 [==============================] - 1s 75ms/step - loss: 0.6899 - accuracy: 0.5954 - val_loss: 0.6825 - val_accuracy: 0.6296\n",
            "Epoch 2/10\n",
            "5/5 [==============================] - 0s 19ms/step - loss: 0.6709 - accuracy: 0.7981 - val_loss: 0.6573 - val_accuracy: 0.8556\n",
            "Epoch 3/10\n",
            "5/5 [==============================] - 0s 22ms/step - loss: 0.6390 - accuracy: 0.9148 - val_loss: 0.6216 - val_accuracy: 0.9407\n",
            "Epoch 4/10\n",
            "5/5 [==============================] - 0s 21ms/step - loss: 0.5984 - accuracy: 0.9620 - val_loss: 0.5828 - val_accuracy: 0.9556\n",
            "Epoch 5/10\n",
            "5/5 [==============================] - 0s 20ms/step - loss: 0.5514 - accuracy: 0.9722 - val_loss: 0.5385 - val_accuracy: 0.9556\n",
            "Epoch 6/10\n",
            "5/5 [==============================] - 0s 17ms/step - loss: 0.5025 - accuracy: 0.9787 - val_loss: 0.4955 - val_accuracy: 0.9630\n",
            "Epoch 7/10\n",
            "5/5 [==============================] - 0s 19ms/step - loss: 0.4519 - accuracy: 0.9815 - val_loss: 0.4517 - val_accuracy: 0.9667\n",
            "Epoch 8/10\n",
            "5/5 [==============================] - 0s 19ms/step - loss: 0.4031 - accuracy: 0.9843 - val_loss: 0.4123 - val_accuracy: 0.9667\n",
            "Epoch 9/10\n",
            "5/5 [==============================] - 0s 19ms/step - loss: 0.3561 - accuracy: 0.9870 - val_loss: 0.3712 - val_accuracy: 0.9704\n",
            "Epoch 10/10\n",
            "5/5 [==============================] - 0s 19ms/step - loss: 0.3126 - accuracy: 0.9870 - val_loss: 0.3352 - val_accuracy: 0.9704\n",
            "\n",
            "Accuracy during Training :\n",
            "------------------------------------\n"
          ]
        },
        {
          "output_type": "display_data",
          "data": {
            "text/plain": [
              "<Figure size 800x500 with 1 Axes>"
            ],
            "image/png": "[encoded data removed]"
          },
          "metadata": {}
        },
        {
          "output_type": "stream",
          "name": "stdout",
          "text": [
            "\n",
            "Evaluation against Test Dataset :\n",
            "------------------------------------\n",
            "5/5 [==============================] - 0s 4ms/step - loss: 0.3671 - accuracy: 0.9600\n"
          ]
        },
        {
          "output_type": "execute_result",
          "data": {
            "text/plain": [
              "[0.3671465814113617, 0.9599999785423279]"
            ]
          },
          "metadata": {},
          "execution_count": 5
        }
      ],
      "source": [
        "#Make it verbose so we can see the progress\n",
        "VERBOSE=1\n",
        "\n",
        "#Setup Hyper Parameters for training\n",
        "BATCH_SIZE=256\n",
        "EPOCHS=10\n",
        "VALIDATION_SPLIT=0.2\n",
        "\n",
        "print(\"\\nTraining Progress:\\n------------------------------------\")\n",
        "\n",
        "history=model.fit(X_train,\n",
        "          Y_train,\n",
        "          batch_size=BATCH_SIZE,\n",
        "          epochs=EPOCHS,\n",
        "          verbose=VERBOSE,\n",
        "          validation_split=VALIDATION_SPLIT)\n",
        "\n",
        "print(\"\\nAccuracy during Training :\\n------------------------------------\")\n",
        "import matplotlib.pyplot as plt\n",
        "\n",
        "pd.DataFrame(history.history)[\"accuracy\"].plot(figsize=(8, 5))\n",
        "plt.title(\"Accuracy improvements with Epoch\")\n",
        "plt.show()\n",
        "\n",
        "print(\"\\nEvaluation against Test Dataset :\\n------------------------------------\")\n",
        "model.evaluate(X_test,Y_test)"
      ]
    },
    {
      "cell_type": "markdown",
      "id": "1d9d4714",
      "metadata": {
        "id": "1d9d4714"
      },
      "source": [
        "### 5.4. Predicting for Text"
      ]
    },
    {
      "cell_type": "code",
      "execution_count": 6,
      "id": "eb0bdcc1",
      "metadata": {
        "colab": {
          "base_uri": "https://localhost:8080/"
        },
        "id": "eb0bdcc1",
        "outputId": "6ac619e8-ac62-4b0d-99bd-64065af13205"
      },
      "outputs": [
        {
          "output_type": "stream",
          "name": "stdout",
          "text": [
            "(2, 4566)\n",
            "1/1 [==============================] - 0s 154ms/step\n",
            "Prediction Output: [1 0]\n",
            "Prediction Classes are  ['spam' 'ham']\n"
          ]
        }
      ],
      "source": [
        "#Predict for multiple samples using batch processing\n",
        "\n",
        "#Convert input into IF-IDF vector using the same vectorizer model\n",
        "predict_tfidf=vectorizer.transform([\"FREE entry to a fun contest\",\n",
        "                                    \"Yup I will come over\"]).toarray()\n",
        "\n",
        "print(predict_tfidf.shape)\n",
        "\n",
        "#Predict using model\n",
        "prediction=np.argmax( model.predict(predict_tfidf), axis=1 )\n",
        "print(\"Prediction Output:\" , prediction)\n",
        "\n",
        "#Print prediction classes\n",
        "print(\"Prediction Classes are \", label_encoder.inverse_transform(prediction))"
      ]
    },
    {
      "cell_type": "code",
      "execution_count": null,
      "id": "2a6e1e04",
      "metadata": {
        "id": "2a6e1e04"
      },
      "outputs": [],
      "source": []
    }
  ],
  "metadata": {
    "kernelspec": {
      "display_name": "Python 3 (ipykernel)",
      "language": "python",
      "name": "python3"
    },
    "language_info": {
      "codemirror_mode": {
        "name": "ipython",
        "version": 3
      },
      "file_extension": ".py",
      "mimetype": "text/x-python",
      "name": "python",
      "nbconvert_exporter": "python",
      "pygments_lexer": "ipython3",
      "version": "3.8.11"
    },
    "colab": {
      "provenance": [],
      "include_colab_link": true
    }
  },
  "nbformat": 4,
  "nbformat_minor": 5
}